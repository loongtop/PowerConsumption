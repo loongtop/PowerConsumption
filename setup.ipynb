{
 "cells": [
  {
   "cell_type": "code",
   "metadata": {
    "ExecuteTime": {
     "end_time": "2024-06-18T13:50:25.595966Z",
     "start_time": "2024-06-18T13:50:25.455901Z"
    }
   },
   "source": [
    "!pwd"
   ],
   "outputs": [
    {
     "name": "stdout",
     "output_type": "stream",
     "text": [
      "/Users/leocui/Downloads/University/UdeM/2024 summer/data visilaztion/TP/Final\r\n"
     ]
    }
   ],
   "execution_count": 10
  },
  {
   "cell_type": "code",
   "metadata": {
    "ExecuteTime": {
     "end_time": "2024-06-18T13:50:30.705422Z",
     "start_time": "2024-06-18T13:50:30.702150Z"
    }
   },
   "source": [
    "import os\n",
    "os.chdir('/Users/leocui/Downloads/University/UdeM/2024 summer/data visilaztion/TP/Final')"
   ],
   "outputs": [],
   "execution_count": 11
  },
  {
   "metadata": {
    "ExecuteTime": {
     "end_time": "2024-06-18T13:50:32.375121Z",
     "start_time": "2024-06-18T13:50:32.239817Z"
    }
   },
   "cell_type": "code",
   "source": "!pwd",
   "outputs": [
    {
     "name": "stdout",
     "output_type": "stream",
     "text": [
      "/Users/leocui/Downloads/University/UdeM/2024 summer/data visilaztion/TP/Final\r\n"
     ]
    }
   ],
   "execution_count": 12
  },
  {
   "cell_type": "code",
   "metadata": {
    "ExecuteTime": {
     "end_time": "2024-06-18T13:50:39.570913Z",
     "start_time": "2024-06-18T13:50:36.636482Z"
    }
   },
   "source": [
    "!python3.8 --version\n",
    "!pip3.8 install --user virtualenv\n",
    "!python3.8 -m virtualenv venv\n",
    "!python3.8 -m virtualenv -p python3.8 venv\n",
    "!source venv/bin/activate\n",
    "\n",
    "# !pip3 install pipwin\n",
    "# !pipwin install pywinpty"
   ],
   "outputs": [
    {
     "name": "stdout",
     "output_type": "stream",
     "text": [
      "Python 3.8.2\r\n",
      "Requirement already satisfied: virtualenv in /Library/Frameworks/Python.framework/Versions/3.8/lib/python3.8/site-packages (20.0.25)\r\n",
      "Requirement already satisfied: appdirs<2,>=1.4.3 in /Library/Frameworks/Python.framework/Versions/3.8/lib/python3.8/site-packages (from virtualenv) (1.4.4)\r\n",
      "Requirement already satisfied: distlib<1,>=0.3.0 in /Library/Frameworks/Python.framework/Versions/3.8/lib/python3.8/site-packages (from virtualenv) (0.3.1)\r\n",
      "Requirement already satisfied: filelock<4,>=3.0.0 in /Library/Frameworks/Python.framework/Versions/3.8/lib/python3.8/site-packages (from virtualenv) (3.0.12)\r\n",
      "Requirement already satisfied: six<2,>=1.9.0 in /Library/Frameworks/Python.framework/Versions/3.8/lib/python3.8/site-packages (from virtualenv) (1.16.0)\r\n",
      "created virtual environment CPython3.8.2.final.0-64 in 203ms\r\n",
      "  creator CPython3Posix(dest=/Users/leocui/Downloads/University/UdeM/2024 summer/data visilaztion/TP/Final/venv, clear=False, global=False)\r\n",
      "  seeder FromAppData(download=False, pip=bundle, setuptools=bundle, wheel=bundle, via=copy, app_data_dir=/Users/leocui/Library/Application Support/virtualenv)\r\n",
      "    added seed packages: pip==20.1.1, setuptools==47.3.1, wheel==0.34.2\r\n",
      "  activators BashActivator,CShellActivator,FishActivator,PowerShellActivator,PythonActivator,XonshActivator\r\n",
      "created virtual environment CPython3.8.2.final.0-64 in 136ms\r\n",
      "  creator CPython3Posix(dest=/Users/leocui/Downloads/University/UdeM/2024 summer/data visilaztion/TP/Final/venv, clear=False, global=False)\r\n",
      "  seeder FromAppData(download=False, pip=bundle, setuptools=bundle, wheel=bundle, via=copy, app_data_dir=/Users/leocui/Library/Application Support/virtualenv)\r\n",
      "    added seed packages: pip==20.1.1, setuptools==47.3.1, wheel==0.34.2\r\n",
      "  activators BashActivator,CShellActivator,FishActivator,PowerShellActivator,PythonActivator,XonshActivator\r\n"
     ]
    }
   ],
   "execution_count": 13
  },
  {
   "cell_type": "code",
   "metadata": {
    "ExecuteTime": {
     "end_time": "2024-06-18T13:50:50.169543Z",
     "start_time": "2024-06-18T13:50:48.230905Z"
    }
   },
   "source": "!pip3.8 install -r requirements.linux.txt",
   "outputs": [
    {
     "name": "stdout",
     "output_type": "stream",
     "text": [
      "Requirement already satisfied: brotli==1.0.9 in /Library/Frameworks/Python.framework/Versions/3.8/lib/python3.8/site-packages (from -r requirements.linux.txt (line 7)) (1.0.9)\r\n",
      "Requirement already satisfied: click==8.1.3 in /Library/Frameworks/Python.framework/Versions/3.8/lib/python3.8/site-packages (from -r requirements.linux.txt (line 9)) (8.1.3)\r\n",
      "Requirement already satisfied: dash==2.6.2 in /Library/Frameworks/Python.framework/Versions/3.8/lib/python3.8/site-packages (from -r requirements.linux.txt (line 11)) (2.6.2)\r\n",
      "Requirement already satisfied: dash-core-components==2.0.0 in /Library/Frameworks/Python.framework/Versions/3.8/lib/python3.8/site-packages (from -r requirements.linux.txt (line 13)) (2.0.0)\r\n",
      "Requirement already satisfied: dash-html-components==2.0.0 in /Library/Frameworks/Python.framework/Versions/3.8/lib/python3.8/site-packages (from -r requirements.linux.txt (line 15)) (2.0.0)\r\n",
      "Requirement already satisfied: dash-table==5.0.0 in /Library/Frameworks/Python.framework/Versions/3.8/lib/python3.8/site-packages (from -r requirements.linux.txt (line 17)) (5.0.0)\r\n",
      "Requirement already satisfied: flask==2.2.2 in /Library/Frameworks/Python.framework/Versions/3.8/lib/python3.8/site-packages (from -r requirements.linux.txt (line 19)) (2.2.2)\r\n",
      "Requirement already satisfied: flask-compress==1.13 in /Library/Frameworks/Python.framework/Versions/3.8/lib/python3.8/site-packages (from -r requirements.linux.txt (line 24)) (1.13)\r\n",
      "Requirement already satisfied: flask-failsafe==0.2 in /Library/Frameworks/Python.framework/Versions/3.8/lib/python3.8/site-packages (from -r requirements.linux.txt (line 26)) (0.2)\r\n",
      "Requirement already satisfied: importlib-metadata==5.0.0 in /Library/Frameworks/Python.framework/Versions/3.8/lib/python3.8/site-packages (from -r requirements.linux.txt (line 28)) (5.0.0)\r\n",
      "Requirement already satisfied: itsdangerous==2.1.2 in /Library/Frameworks/Python.framework/Versions/3.8/lib/python3.8/site-packages (from -r requirements.linux.txt (line 30)) (2.1.2)\r\n",
      "Requirement already satisfied: jinja2==3.1.2 in /Library/Frameworks/Python.framework/Versions/3.8/lib/python3.8/site-packages (from -r requirements.linux.txt (line 32)) (3.1.2)\r\n",
      "Requirement already satisfied: markupsafe==2.1.1 in /Library/Frameworks/Python.framework/Versions/3.8/lib/python3.8/site-packages (from -r requirements.linux.txt (line 34)) (2.1.1)\r\n",
      "Requirement already satisfied: numpy==1.23.4 in /Library/Frameworks/Python.framework/Versions/3.8/lib/python3.8/site-packages (from -r requirements.linux.txt (line 38)) (1.23.4)\r\n",
      "Requirement already satisfied: pandas==1.5.1 in /Library/Frameworks/Python.framework/Versions/3.8/lib/python3.8/site-packages (from -r requirements.linux.txt (line 42)) (1.5.1)\r\n",
      "Requirement already satisfied: plotly==5.11.0 in /Library/Frameworks/Python.framework/Versions/3.8/lib/python3.8/site-packages (from -r requirements.linux.txt (line 44)) (5.11.0)\r\n",
      "Requirement already satisfied: python-dateutil==2.8.2 in /Library/Frameworks/Python.framework/Versions/3.8/lib/python3.8/site-packages (from -r requirements.linux.txt (line 48)) (2.8.2)\r\n",
      "Requirement already satisfied: pytz==2022.6 in /Library/Frameworks/Python.framework/Versions/3.8/lib/python3.8/site-packages (from -r requirements.linux.txt (line 50)) (2022.6)\r\n",
      "Requirement already satisfied: six==1.16.0 in /Library/Frameworks/Python.framework/Versions/3.8/lib/python3.8/site-packages (from -r requirements.linux.txt (line 52)) (1.16.0)\r\n",
      "Requirement already satisfied: tenacity==8.1.0 in /Library/Frameworks/Python.framework/Versions/3.8/lib/python3.8/site-packages (from -r requirements.linux.txt (line 54)) (8.1.0)\r\n",
      "Requirement already satisfied: werkzeug==2.2.2 in /Library/Frameworks/Python.framework/Versions/3.8/lib/python3.8/site-packages (from -r requirements.linux.txt (line 56)) (2.2.2)\r\n",
      "Requirement already satisfied: zipp==3.10.0 in /Library/Frameworks/Python.framework/Versions/3.8/lib/python3.8/site-packages (from -r requirements.linux.txt (line 58)) (3.10.0)\r\n"
     ]
    }
   ],
   "execution_count": 14
  },
  {
   "cell_type": "code",
   "execution_count": null,
   "metadata": {},
   "outputs": [],
   "source": []
  }
 ],
 "metadata": {
  "kernelspec": {
   "display_name": "Python 3",
   "language": "python",
   "name": "python3"
  },
  "language_info": {
   "codemirror_mode": {
    "name": "ipython",
    "version": 3
   },
   "file_extension": ".py",
   "mimetype": "text/x-python",
   "name": "python",
   "nbconvert_exporter": "python",
   "pygments_lexer": "ipython3",
   "version": "3.8.2"
  }
 },
 "nbformat": 4,
 "nbformat_minor": 2
}
